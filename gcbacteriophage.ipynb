{
 "cells": [
  {
   "cell_type": "markdown",
   "metadata": {
    "collapsed": false
   },
   "source": [
    "TODO \n",
    "Try biosequtils"
   ]
  },
  {
   "cell_type": "code",
   "execution_count": 1,
   "metadata": {
    "collapsed": false
   },
   "outputs": [
    {
     "data": {
      "text/plain": [
       "[0, 3, 6]"
      ]
     },
     "execution_count": 1,
     "metadata": {},
     "output_type": "execute_result"
    }
   ],
   "source": [
    "range(0, 10-3, 3)"
   ]
  },
  {
   "cell_type": "code",
   "execution_count": 6,
   "metadata": {
    "collapsed": false
   },
   "outputs": [
    {
     "name": "stdout",
     "output_type": "stream",
     "text": [
      "[('A', 20.0), ('C', 30.0), ('T', 20.0), ('G', 30.0)]\n"
     ]
    }
   ],
   "source": [
    "from collections import Counter"
   ]
  },
  {
   "cell_type": "code",
   "execution_count": 40,
   "metadata": {
    "collapsed": false
   },
   "outputs": [
    {
     "name": "stdout",
     "output_type": "stream",
     "text": [
      "[('A', 20.0), ('C', 30.0), ('T', 20.0), ('G', 30.0)]\n",
      "60.0\n"
     ]
    }
   ],
   "source": [
    "l = ['A','C','T','G','C','G','T','A','C','G']\n",
    "percs = [(i, Counter(l)[i] / float(len(l)) * 100.0) for i in Counter(l)]\n",
    "#[(A, 14.285714285714285),\n",
    "# (C, 35.714285714285715),\n",
    "# (T, 7.142857142857142), \n",
    "# (G, 7.142857142857142), \n",
    "# (U, 35.714285714285715)]\n",
    "print percs\n",
    "print sum([item[1] for item in percs if item[0] in ['C', 'G']])"
   ]
  },
  {
   "cell_type": "code",
   "execution_count": 113,
   "metadata": {
    "collapsed": false
   },
   "outputs": [
    {
     "data": {
      "text/plain": [
       "Counter({'A': 2, 'C': 3, 'G': 3, 'T': 2})"
      ]
     },
     "execution_count": 113,
     "metadata": {},
     "output_type": "execute_result"
    }
   ],
   "source": [
    "Counter(l)"
   ]
  },
  {
   "cell_type": "code",
   "execution_count": 86,
   "metadata": {
    "collapsed": false
   },
   "outputs": [],
   "source": [
    "#from IPython.core.debugger import Tracer\n",
    "def slidingwindowGC(windowsize, inputseq):\n",
    "    starts = range(0,len(inputseq), windowsize)\n",
    "    #print starts\n",
    "    n = len(starts)\n",
    "    chunkGCs = []\n",
    "    #Tracer()() #this one triggers the debugger\n",
    "    for s in starts:\n",
    "        chunk = inputseq[s:(s + windowsize)]\n",
    "        percs = [(i, Counter(chunk)[i] / float(len(chunk)) * 100.0) for i in Counter(chunk)]\n",
    "        chunkGC = sum([item[1] for item in percs if item[0] in ['C', 'G']])\n",
    "        chunkGCs.append(chunkGC)\n",
    "        #print chunk\n",
    "        #print chunkGC\n",
    "    return chunkGCs"
   ]
  },
  {
   "cell_type": "code",
   "execution_count": 88,
   "metadata": {
    "collapsed": false
   },
   "outputs": [
    {
     "name": "stdout",
     "output_type": "stream",
     "text": [
      "[44.0]\n"
     ]
    }
   ],
   "source": [
    "mychunks = slidingwindowGC(1000,\"GTAGCGATGCTCCGATAGCTATGATCGCGCATACTATATCGATCGAAAAA\")\n",
    "print mychunks"
   ]
  },
  {
   "cell_type": "code",
   "execution_count": 79,
   "metadata": {
    "collapsed": false
   },
   "outputs": [],
   "source": [
    "import matplotlib.pyplot as plt\n",
    "%matplotlib inline"
   ]
  },
  {
   "cell_type": "code",
   "execution_count": 100,
   "metadata": {
    "collapsed": false
   },
   "outputs": [],
   "source": [
    "genome = \"\"\n",
    "with open('homework/ViralProj1.fna') as f:\n",
    "    genome = genome.join((f.read().splitlines())[1:])"
   ]
  },
  {
   "cell_type": "code",
   "execution_count": 101,
   "metadata": {
    "collapsed": false
   },
   "outputs": [
    {
     "data": {
      "text/plain": [
       "[<matplotlib.lines.Line2D at 0x7fadfbba4950>]"
      ]
     },
     "execution_count": 101,
     "metadata": {},
     "output_type": "execute_result"
    },
    {
     "data": {
      "image/png": "[encoded data removed]",
      "text/plain": [
       "<matplotlib.figure.Figure at 0x7fadfecf19d0>"
      ]
     },
     "metadata": {},
     "output_type": "display_data"
    }
   ],
   "source": [
    "plt.plot(slidingwindowGC(300,genome))"
   ]
  },
  {
   "cell_type": "code",
   "execution_count": 114,
   "metadata": {
    "collapsed": false
   },
   "outputs": [
    {
     "data": {
      "text/plain": [
       "[<matplotlib.lines.Line2D at 0x7fadfb4a5290>]"
      ]
     },
     "execution_count": 114,
     "metadata": {},
     "output_type": "execute_result"
    },
    {
     "data": {
      "image/png": "[encoded data removed]",
      "text/plain": [
       "<matplotlib.figure.Figure at 0x7fadfb5c1610>"
      ]
     },
     "metadata": {},
     "output_type": "display_data"
    }
   ],
   "source": [
    "hmit = \"\"\n",
    "with open('homework/mithocondrea.fasta') as f:\n",
    "    hmit = hmit.join((f.read().splitlines())[1:])\n",
    "plt.plot(slidingwindowGC(1000,hmit))"
   ]
  },
  {
   "cell_type": "code",
   "execution_count": 118,
   "metadata": {
    "collapsed": false
   },
   "outputs": [
    {
     "data": {
      "text/plain": [
       "[('AA', 2), ('TG', 1), ('AT', 1), ('CG', 1)]"
      ]
     },
     "execution_count": 118,
     "metadata": {},
     "output_type": "execute_result"
    }
   ],
   "source": [
    "str = \"AATGAACG\"\n",
    "dimers = [\"AA\", \"TG\", \"AT\", \"CG\"]\n",
    "[(d,str.count(d,0,len(str))) for d in dimers]"
   ]
  },
  {
   "cell_type": "code",
   "execution_count": null,
   "metadata": {
    "collapsed": true
   },
   "outputs": [],
   "source": [
    "#from IPython.core.debugger import Tracer\n",
    "def dimers(inputseq):\n",
    "    starts = range(0,len(inputseq), 2)\n",
    "    #print starts\n",
    "    n = len(starts)\n",
    "    chunkGCs = []\n",
    "    #Tracer()() #this one triggers the debugger\n",
    "    for s in starts:\n",
    "        chunk = inputseq[s:(s + windowsize)]\n",
    "        percs = [(i, Counter(chunk)[i] / float(len(chunk)) * 100.0) for i in Counter(chunk)]\n",
    "        chunkGC = sum([item[1] for item in percs if item[0] in ['C', 'G']])\n",
    "        chunkGCs.append(chunkGC)\n",
    "        #print chunk\n",
    "        #print chunkGC\n",
    "    return chunkGCs"
   ]
  }
 ],
 "metadata": {
  "kernelspec": {
   "display_name": "Python 2",
   "language": "python",
   "name": "python2"
  },
  "language_info": {
   "codemirror_mode": {
    "name": "ipython",
    "version": 2
   },
   "file_extension": ".py",
   "mimetype": "text/x-python",
   "name": "python",
   "nbconvert_exporter": "python",
   "pygments_lexer": "ipython2",
   "version": "2.7.11"
  }
 },
 "nbformat": 4,
 "nbformat_minor": 0
}
