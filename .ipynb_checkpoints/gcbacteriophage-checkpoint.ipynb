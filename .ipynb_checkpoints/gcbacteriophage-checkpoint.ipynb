{
 "cells": [
  {
   "cell_type": "markdown",
   "metadata": {
    "collapsed": false
   },
   "source": []
  },
  {
   "cell_type": "code",
   "execution_count": 1,
   "metadata": {
    "collapsed": false
   },
   "outputs": [
    {
     "data": {
      "text/plain": [
       "[0, 3, 6]"
      ]
     },
     "execution_count": 1,
     "metadata": {},
     "output_type": "execute_result"
    }
   ],
   "source": [
    "range(0, 10-3, 3)"
   ]
  },
  {
   "cell_type": "code",
   "execution_count": 6,
   "metadata": {
    "collapsed": false
   },
   "outputs": [
    {
     "name": "stdout",
     "output_type": "stream",
     "text": [
      "[('A', 20.0), ('C', 30.0), ('T', 20.0), ('G', 30.0)]\n"
     ]
    }
   ],
   "source": [
    "from collections import Counter"
   ]
  },
  {
   "cell_type": "code",
   "execution_count": 40,
   "metadata": {
    "collapsed": false
   },
   "outputs": [
    {
     "name": "stdout",
     "output_type": "stream",
     "text": [
      "[('A', 20.0), ('C', 30.0), ('T', 20.0), ('G', 30.0)]\n",
      "60.0\n"
     ]
    }
   ],
   "source": [
    "l = ['A','C','T','G','C','G','T','A','C','G']\n",
    "percs = [(i, Counter(l)[i] / float(len(l)) * 100.0) for i in Counter(l)]\n",
    "#[(A, 14.285714285714285),\n",
    "# (C, 35.714285714285715),\n",
    "# (T, 7.142857142857142), \n",
    "# (G, 7.142857142857142), \n",
    "# (U, 35.714285714285715)]\n",
    "print percs\n",
    "print sum([item[1] for item in percs if item[0] in ['C', 'G']])"
   ]
  },
  {
   "cell_type": "code",
   "execution_count": 45,
   "metadata": {
    "collapsed": false
   },
   "outputs": [
    {
     "data": {
      "text/plain": [
       "[0, 2, 4, 6, 8]"
      ]
     },
     "execution_count": 45,
     "metadata": {},
     "output_type": "execute_result"
    }
   ],
   "source": [
    "range(0,10,2)"
   ]
  },
  {
   "cell_type": "code",
   "execution_count": 86,
   "metadata": {
    "collapsed": false
   },
   "outputs": [],
   "source": [
    "#from IPython.core.debugger import Tracer\n",
    "def slidingwindowGC(windowsize, inputseq):\n",
    "    starts = range(0,len(inputseq), windowsize)\n",
    "    #print starts\n",
    "    n = len(starts)\n",
    "    chunkGCs = []\n",
    "    #Tracer()() #this one triggers the debugger\n",
    "    for s in starts:\n",
    "        chunk = inputseq[s:(s + windowsize)]\n",
    "        percs = [(i, Counter(chunk)[i] / float(len(chunk)) * 100.0) for i in Counter(chunk)]\n",
    "        chunkGC = sum([item[1] for item in percs if item[0] in ['C', 'G']])\n",
    "        chunkGCs.append(chunkGC)\n",
    "        #print chunk\n",
    "        #print chunkGC\n",
    "    return chunkGCs"
   ]
  },
  {
   "cell_type": "code",
   "execution_count": 88,
   "metadata": {
    "collapsed": false
   },
   "outputs": [
    {
     "name": "stdout",
     "output_type": "stream",
     "text": [
      "[44.0]\n"
     ]
    }
   ],
   "source": [
    "mychunks = slidingwindowGC(1000,\"GTAGCGATGCTCCGATAGCTATGATCGCGCATACTATATCGATCGAAAAA\")\n",
    "print mychunks"
   ]
  },
  {
   "cell_type": "code",
   "execution_count": 79,
   "metadata": {
    "collapsed": false
   },
   "outputs": [],
   "source": [
    "import matplotlib.pyplot as plt\n",
    "%matplotlib inline"
   ]
  },
  {
   "cell_type": "code",
   "execution_count": 84,
   "metadata": {
    "collapsed": false
   },
   "outputs": [],
   "source": [
    "genome = \"\"\n",
    "with open('homework/ViralProj1.fna') as f:\n",
    "    genome = genome.join((f.read().splitlines())[1:])"
   ]
  },
  {
   "cell_type": "code",
   "execution_count": 98,
   "metadata": {
    "collapsed": false
   },
   "outputs": [
    {
     "data": {
      "text/plain": [
       "[<matplotlib.lines.Line2D at 0x7fadfbcc0810>]"
      ]
     },
     "execution_count": 98,
     "metadata": {},
     "output_type": "execute_result"
    },
    {
     "data": {
      "image/png": "[encoded data removed]",
      "text/plain": [
       "<matplotlib.figure.Figure at 0x7fadfbdbd410>"
      ]
     },
     "metadata": {},
     "output_type": "display_data"
    }
   ],
   "source": [
    "plt.plot(slidingwindowGC(300,genome))"
   ]
  }
 ],
 "metadata": {
  "kernelspec": {
   "display_name": "Python 2",
   "language": "python",
   "name": "python2"
  },
  "language_info": {
   "codemirror_mode": {
    "name": "ipython",
    "version": 2
   },
   "file_extension": ".py",
   "mimetype": "text/x-python",
   "name": "python",
   "nbconvert_exporter": "python",
   "pygments_lexer": "ipython2",
   "version": "2.7.11"
  }
 },
 "nbformat": 4,
 "nbformat_minor": 0
}
